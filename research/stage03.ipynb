{
 "cells": [
  {
   "cell_type": "code",
   "execution_count": 1,
   "metadata": {},
   "outputs": [],
   "source": [
    "import os"
   ]
  },
  {
   "cell_type": "code",
   "execution_count": 2,
   "metadata": {},
   "outputs": [
    {
     "data": {
      "text/plain": [
       "'c:\\\\Users\\\\Aditya\\\\Documents\\\\Aditya\\\\Hackathons\\\\init_prep\\\\research'"
      ]
     },
     "execution_count": 2,
     "metadata": {},
     "output_type": "execute_result"
    }
   ],
   "source": [
    "%pwd"
   ]
  },
  {
   "cell_type": "code",
   "execution_count": 3,
   "metadata": {},
   "outputs": [],
   "source": [
    "os.chdir('../')"
   ]
  },
  {
   "cell_type": "code",
   "execution_count": 4,
   "metadata": {},
   "outputs": [
    {
     "data": {
      "text/plain": [
       "'c:\\\\Users\\\\Aditya\\\\Documents\\\\Aditya\\\\Hackathons\\\\init_prep'"
      ]
     },
     "execution_count": 4,
     "metadata": {},
     "output_type": "execute_result"
    }
   ],
   "source": [
    "%pwd"
   ]
  },
  {
   "cell_type": "code",
   "execution_count": 5,
   "metadata": {},
   "outputs": [],
   "source": [
    "from dataclasses import dataclass\n",
    "from pathlib import Path\n",
    "\n",
    "\n",
    "@dataclass(frozen=True)\n",
    "class GenerateReportConfig:\n",
    "    root_dir: Path\n",
    "    model_path: Path\n",
    "    report_path: Path"
   ]
  },
  {
   "cell_type": "code",
   "execution_count": 6,
   "metadata": {},
   "outputs": [],
   "source": [
    "from heartDiseaseClassification.constants import *\n",
    "from heartDiseaseClassification.utils.common import read_yaml, create_directories"
   ]
  },
  {
   "cell_type": "code",
   "execution_count": 7,
   "metadata": {},
   "outputs": [],
   "source": [
    "class ConfigurationManager:\n",
    "    def __init__(\n",
    "            self,\n",
    "            config_filepath=CONFIG_FILE_PATH,\n",
    "            params_filepath=PARAMS_FILE_PATH):\n",
    "\n",
    "        self.config = read_yaml(config_filepath)\n",
    "        self.params = read_yaml(params_filepath)\n",
    "\n",
    "        create_directories([self.config.artifacts_root])\n",
    "\n",
    "    def get_generate_report_config(self) -> GenerateReportConfig:\n",
    "        config = self.config.generate_report\n",
    "\n",
    "        create_directories([config.root_dir])\n",
    "\n",
    "        generate_report_config = GenerateReportConfig(\n",
    "            root_dir=config.root_dir,\n",
    "            model_path=config.model_path,\n",
    "            report_path=config.report_path\n",
    "        )\n",
    "\n",
    "        return generate_report_config"
   ]
  },
  {
   "cell_type": "code",
   "execution_count": 8,
   "metadata": {},
   "outputs": [
    {
     "name": "stdout",
     "output_type": "stream",
     "text": [
      "[2024-02-06 02:31:45,330: INFO: common: yaml file: config\\config.yaml loaded successfully]\n",
      "[2024-02-06 02:31:45,332: INFO: common: yaml file: params.yaml loaded successfully]\n",
      "[2024-02-06 02:31:45,332: INFO: common: created directory at: artifacts]\n",
      "[2024-02-06 02:31:45,334: INFO: common: created directory at: artifacts/generate_report]\n"
     ]
    },
    {
     "name": "stderr",
     "output_type": "stream",
     "text": [
      "C:\\Users\\Aditya\\AppData\\Local\\Temp\\ipykernel_14868\\4037462586.py:4: DeprecationWarning: \n",
      "Pyarrow will become a required dependency of pandas in the next major release of pandas (pandas 3.0),\n",
      "(to allow more performant data types, such as the Arrow string type, and better interoperability with other libraries)\n",
      "but was not found to be installed on your system.\n",
      "If this would cause problems for you,\n",
      "please provide us feedback at https://github.com/pandas-dev/pandas/issues/54466\n",
      "        \n",
      "  import pandas as pd\n"
     ]
    }
   ],
   "source": [
    "from pathlib import Path\n",
    "import joblib\n",
    "from sklearn.metrics import classification_report\n",
    "import pandas as pd\n",
    "\n",
    "class GenerateReport:\n",
    "    def __init__(self, config: GenerateReportConfig):\n",
    "        self.config = config\n",
    "\n",
    "    def generate_report(self):\n",
    "        full_model = joblib.load(self.config.model_path)\n",
    "        root_dir = Path(self.config.root_dir)\n",
    "        X_train_scaled = pd.read_csv(f\"{root_dir.parent}/data_ingestion/X_train_scaled.csv\") \n",
    "        y_train = pd.read_csv(f\"{root_dir.parent}/data_ingestion/y_train.csv\")\n",
    "        y_pred = full_model.predict(X_train_scaled)\n",
    "        report = classification_report(y_train, y_pred)\n",
    "\n",
    "        with open(self.config.report_path, \"w\") as f:\n",
    "            f.write(report)\n",
    "    \n",
    "\n",
    "try:\n",
    "    config = ConfigurationManager()\n",
    "    generate_report_config = config.get_generate_report_config()\n",
    "    generate_report = GenerateReport(config=generate_report_config)\n",
    "    generate_report.generate_report()\n",
    "except Exception as e:\n",
    "    raise e"
   ]
  }
 ],
 "metadata": {
  "language_info": {
   "name": "python"
  }
 },
 "nbformat": 4,
 "nbformat_minor": 2
}
